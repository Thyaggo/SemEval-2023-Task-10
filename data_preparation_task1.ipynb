{
 "cells": [
  {
   "cell_type": "code",
   "execution_count": 1,
   "metadata": {},
   "outputs": [
    {
     "name": "stderr",
     "output_type": "stream",
     "text": [
      "/home/sgarc/SemEval-2023-Task-10/venv/lib/python3.10/site-packages/tqdm/auto.py:21: TqdmWarning: IProgress not found. Please update jupyter and ipywidgets. See https://ipywidgets.readthedocs.io/en/stable/user_install.html\n",
      "  from .autonotebook import tqdm as notebook_tqdm\n"
     ]
    }
   ],
   "source": [
    "import os\n",
    "import copy\n",
    "import pickle\n",
    "from sentence_transformers import SentenceTransformer\n",
    "import pandas as pd\n",
    "import numpy as np\n",
    "\n",
    "# Global variables\n",
    "MAX_NO_OF_SPEAKERS = 9\n",
    "EMOTIONS = ['anger','joy','surprise','neutral','sadness','disgust','fear','contempt']\n",
    "\n",
    "model = SentenceTransformer(\"paraphrase-multilingual-mpnet-base-v2\")"
   ]
  },
  {
   "cell_type": "code",
   "execution_count": 2,
   "metadata": {},
   "outputs": [],
   "source": [
    "train_csv = pd.read_json(\"EDiReF-Train-Data/Task 1/MaSaC_train_erc.json\")"
   ]
  },
  {
   "cell_type": "code",
   "execution_count": 3,
   "metadata": {},
   "outputs": [
    {
     "data": {
      "text/html": [
       "<div>\n",
       "<style scoped>\n",
       "    .dataframe tbody tr th:only-of-type {\n",
       "        vertical-align: middle;\n",
       "    }\n",
       "\n",
       "    .dataframe tbody tr th {\n",
       "        vertical-align: top;\n",
       "    }\n",
       "\n",
       "    .dataframe thead th {\n",
       "        text-align: right;\n",
       "    }\n",
       "</style>\n",
       "<table border=\"1\" class=\"dataframe\">\n",
       "  <thead>\n",
       "    <tr style=\"text-align: right;\">\n",
       "      <th></th>\n",
       "      <th>episode</th>\n",
       "      <th>speakers</th>\n",
       "      <th>utterances</th>\n",
       "      <th>emotions</th>\n",
       "    </tr>\n",
       "  </thead>\n",
       "  <tbody>\n",
       "    <tr>\n",
       "      <th>0</th>\n",
       "      <td>roseshantstobeadopted.wmv</td>\n",
       "      <td>[maya, indu, rosesh, indu, maya, indu, rosesh,...</td>\n",
       "      <td>[kya kya bhar ke rakha hai indravadan ne is gh...</td>\n",
       "      <td>[disgust, contempt, anger, neutral, neutral, c...</td>\n",
       "    </tr>\n",
       "    <tr>\n",
       "      <th>1</th>\n",
       "      <td>roseshantstobeadopted.wmv</td>\n",
       "      <td>[maya, rosesh, indu, rosesh, maya, maya, indu,...</td>\n",
       "      <td>[rosesh beta happy diwali!, you bet momma., ro...</td>\n",
       "      <td>[joy, neutral, joy, sadness, neutral, joy, neu...</td>\n",
       "    </tr>\n",
       "    <tr>\n",
       "      <th>2</th>\n",
       "      <td>roseshantstobeadopted.wmv</td>\n",
       "      <td>[maya, indu, maya, indu, maya, maya, indu, may...</td>\n",
       "      <td>[radha bai! vitthal! monisha!, maya suno, ye k...</td>\n",
       "      <td>[neutral, fear, disgust, neutral, contempt, ne...</td>\n",
       "    </tr>\n",
       "    <tr>\n",
       "      <th>3</th>\n",
       "      <td>roseshantstobeadopted.wmv</td>\n",
       "      <td>[sahil, monisha, sahil, monisha, sahil, monish...</td>\n",
       "      <td>[rosesh chup ho jao. monisha pani lekar aao!, ...</td>\n",
       "      <td>[anger, neutral, neutral, neutral, neutral, ne...</td>\n",
       "    </tr>\n",
       "    <tr>\n",
       "      <th>4</th>\n",
       "      <td>roseshantstobeadopted.wmv</td>\n",
       "      <td>[rosesh, maya, rosesh, maya, rosesh, maya, ros...</td>\n",
       "      <td>[momma aap mujhse dur hi rahe to behtar hoga, ...</td>\n",
       "      <td>[sadness, neutral, contempt, neutral, sadness,...</td>\n",
       "    </tr>\n",
       "    <tr>\n",
       "      <th>...</th>\n",
       "      <td>...</td>\n",
       "      <td>...</td>\n",
       "      <td>...</td>\n",
       "      <td>...</td>\n",
       "    </tr>\n",
       "    <tr>\n",
       "      <th>338</th>\n",
       "      <td>radhabaileaves</td>\n",
       "      <td>[sahil, radha bai, vitthal, radha bai, sahil, ...</td>\n",
       "      <td>[radha bhai radha bhai please aap rona band ki...</td>\n",
       "      <td>[neutral, sadness, sadness, sadness, neutral, ...</td>\n",
       "    </tr>\n",
       "    <tr>\n",
       "      <th>339</th>\n",
       "      <td>radhabaileaves</td>\n",
       "      <td>[maya, indu, rosesh, indu, maya, indu, maya, i...</td>\n",
       "      <td>[indravadan! rosesh ka play hit ho gaya!, achc...</td>\n",
       "      <td>[joy, joy, neutral, neutral, neutral, joy, joy...</td>\n",
       "    </tr>\n",
       "    <tr>\n",
       "      <th>340</th>\n",
       "      <td>radhabaileaves</td>\n",
       "      <td>[maya, monish, maya, sahil, maya, sahil, monis...</td>\n",
       "      <td>[monisha tumne un logon ko bhadkake acha nahin...</td>\n",
       "      <td>[anger, neutral, neutral, neutral, contempt, a...</td>\n",
       "    </tr>\n",
       "    <tr>\n",
       "      <th>341</th>\n",
       "      <td>radhabaileaves</td>\n",
       "      <td>[ila ben, maya, indu, ila ben, indu, maya, ila...</td>\n",
       "      <td>[maya ye hai sita aur geeta, ye akeli hi seeta...</td>\n",
       "      <td>[neutral, surprise, joy, neutral, joy, neutral...</td>\n",
       "    </tr>\n",
       "    <tr>\n",
       "      <th>342</th>\n",
       "      <td>radhabaileaves</td>\n",
       "      <td>[sahil, indu, sahil, indu, sahil, indu, sahil,...</td>\n",
       "      <td>[dad, ye kya kar rhe hai aap?, anti-bai spray ...</td>\n",
       "      <td>[surprise, neutral, neutral, disgust, joy, dis...</td>\n",
       "    </tr>\n",
       "  </tbody>\n",
       "</table>\n",
       "<p>343 rows × 4 columns</p>\n",
       "</div>"
      ],
      "text/plain": [
       "                       episode  \\\n",
       "0    roseshantstobeadopted.wmv   \n",
       "1    roseshantstobeadopted.wmv   \n",
       "2    roseshantstobeadopted.wmv   \n",
       "3    roseshantstobeadopted.wmv   \n",
       "4    roseshantstobeadopted.wmv   \n",
       "..                         ...   \n",
       "338             radhabaileaves   \n",
       "339             radhabaileaves   \n",
       "340             radhabaileaves   \n",
       "341             radhabaileaves   \n",
       "342             radhabaileaves   \n",
       "\n",
       "                                              speakers  \\\n",
       "0    [maya, indu, rosesh, indu, maya, indu, rosesh,...   \n",
       "1    [maya, rosesh, indu, rosesh, maya, maya, indu,...   \n",
       "2    [maya, indu, maya, indu, maya, maya, indu, may...   \n",
       "3    [sahil, monisha, sahil, monisha, sahil, monish...   \n",
       "4    [rosesh, maya, rosesh, maya, rosesh, maya, ros...   \n",
       "..                                                 ...   \n",
       "338  [sahil, radha bai, vitthal, radha bai, sahil, ...   \n",
       "339  [maya, indu, rosesh, indu, maya, indu, maya, i...   \n",
       "340  [maya, monish, maya, sahil, maya, sahil, monis...   \n",
       "341  [ila ben, maya, indu, ila ben, indu, maya, ila...   \n",
       "342  [sahil, indu, sahil, indu, sahil, indu, sahil,...   \n",
       "\n",
       "                                            utterances  \\\n",
       "0    [kya kya bhar ke rakha hai indravadan ne is gh...   \n",
       "1    [rosesh beta happy diwali!, you bet momma., ro...   \n",
       "2    [radha bai! vitthal! monisha!, maya suno, ye k...   \n",
       "3    [rosesh chup ho jao. monisha pani lekar aao!, ...   \n",
       "4    [momma aap mujhse dur hi rahe to behtar hoga, ...   \n",
       "..                                                 ...   \n",
       "338  [radha bhai radha bhai please aap rona band ki...   \n",
       "339  [indravadan! rosesh ka play hit ho gaya!, achc...   \n",
       "340  [monisha tumne un logon ko bhadkake acha nahin...   \n",
       "341  [maya ye hai sita aur geeta, ye akeli hi seeta...   \n",
       "342  [dad, ye kya kar rhe hai aap?, anti-bai spray ...   \n",
       "\n",
       "                                              emotions  \n",
       "0    [disgust, contempt, anger, neutral, neutral, c...  \n",
       "1    [joy, neutral, joy, sadness, neutral, joy, neu...  \n",
       "2    [neutral, fear, disgust, neutral, contempt, ne...  \n",
       "3    [anger, neutral, neutral, neutral, neutral, ne...  \n",
       "4    [sadness, neutral, contempt, neutral, sadness,...  \n",
       "..                                                 ...  \n",
       "338  [neutral, sadness, sadness, sadness, neutral, ...  \n",
       "339  [joy, joy, neutral, neutral, neutral, joy, joy...  \n",
       "340  [anger, neutral, neutral, neutral, contempt, a...  \n",
       "341  [neutral, surprise, joy, neutral, joy, neutral...  \n",
       "342  [surprise, neutral, neutral, disgust, joy, dis...  \n",
       "\n",
       "[343 rows x 4 columns]"
      ]
     },
     "execution_count": 3,
     "metadata": {},
     "output_type": "execute_result"
    }
   ],
   "source": [
    "train_csv"
   ]
  },
  {
   "cell_type": "code",
   "execution_count": 6,
   "metadata": {},
   "outputs": [],
   "source": [
    "def one_hot_emotions(dts: pd.DataFrame) -> list:\n",
    "    emotions_dummies = pd.get_dummies(EMOTIONS)\n",
    "    return [[emotions_dummies[x_1] for x_1 in x_0] for x_0 in dts]"
   ]
  },
  {
   "cell_type": "code",
   "execution_count": 7,
   "metadata": {},
   "outputs": [
    {
     "data": {
      "text/plain": [
       "9"
      ]
     },
     "execution_count": 7,
     "metadata": {},
     "output_type": "execute_result"
    }
   ],
   "source": [
    "max([len(set(x)) for x in train_csv[\"speakers\"]])"
   ]
  },
  {
   "cell_type": "code",
   "execution_count": 8,
   "metadata": {},
   "outputs": [],
   "source": [
    "def one_hot_speakers(dts: pd.DataFrame) -> list:\n",
    "    tmp = []\n",
    "    for conversation in dts:\n",
    "        speakers, idxs = np.unique(conversation, return_inverse=True)\n",
    "        tmp.append(np.eye(len(speakers), MAX_NO_OF_SPEAKERS)[idxs])\n",
    "    return tmp"
   ]
  },
  {
   "cell_type": "code",
   "execution_count": 9,
   "metadata": {},
   "outputs": [],
   "source": [
    "def generate_sentence_embeddings(dts: pd.DataFrame, model: SentenceTransformer) -> list:\n",
    "    if not os.path.exists('df_sent_task1.pkl'):\n",
    "        sentence_embeddings = [copy.deepcopy(model.encode(utt)) for utt in dts]\n",
    "        with open('df_sent_task1.pkl', 'wb') as f:\n",
    "            pickle.dump(sentence_embeddings, f)\n",
    "    else:\n",
    "        with open('df_sent_task1.pkl', 'rb') as f:\n",
    "            sentence_embeddings = pickle.load(f)\n",
    "    \n",
    "    return sentence_embeddings"
   ]
  },
  {
   "cell_type": "code",
   "execution_count": 10,
   "metadata": {},
   "outputs": [
    {
     "ename": "",
     "evalue": "",
     "output_type": "error",
     "traceback": [
      "\u001b[1;31mThe Kernel crashed while executing code in the current cell or a previous cell. \n",
      "\u001b[1;31mPlease review the code in the cell(s) to identify a possible cause of the failure. \n",
      "\u001b[1;31mClick <a href='https://aka.ms/vscodeJupyterKernelCrash'>here</a> for more info. \n",
      "\u001b[1;31mView Jupyter <a href='command:jupyter.viewOutput'>log</a> for further details."
     ]
    }
   ],
   "source": [
    "generate_sentence_embeddings(train_csv[\"utterances\"], model)"
   ]
  }
 ],
 "metadata": {
  "kernelspec": {
   "display_name": "venv",
   "language": "python",
   "name": "python3"
  },
  "language_info": {
   "codemirror_mode": {
    "name": "ipython",
    "version": 3
   },
   "file_extension": ".py",
   "mimetype": "text/x-python",
   "name": "python",
   "nbconvert_exporter": "python",
   "pygments_lexer": "ipython3",
   "version": "3.10.12"
  }
 },
 "nbformat": 4,
 "nbformat_minor": 2
}
